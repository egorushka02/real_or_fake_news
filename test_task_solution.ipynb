{
 "cells": [
  {
   "cell_type": "markdown",
   "id": "f59bb350",
   "metadata": {},
   "source": [
    "# Импортируем библиотеки"
   ]
  },
  {
   "cell_type": "code",
   "execution_count": 1,
   "id": "15c6b2a2",
   "metadata": {},
   "outputs": [],
   "source": [
    "import pandas as pd\n",
    "\n",
    "import numpy as np\n",
    "\n",
    "import matplotlib.pyplot as plt\n",
    "%matplotlib inline\n",
    "import seaborn as sns\n",
    "\n",
    "from sklearn.model_selection import train_test_split\n",
    "from sklearn.feature_extraction.text import TfidfVectorizer\n",
    "from sklearn.naive_bayes import MultinomialNB\n",
    "from sklearn.pipeline import Pipeline\n",
    "from sklearn.tree import DecisionTreeClassifier\n",
    "from sklearn.ensemble import RandomForestClassifier\n",
    "from sklearn.metrics import f1_score\n",
    "\n",
    "\n",
    "import nltk\n",
    "from nltk.corpus import stopwords\n",
    "\n",
    "import re\n",
    "\n",
    "import warnings\n",
    "warnings.filterwarnings('ignore')"
   ]
  },
  {
   "cell_type": "markdown",
   "id": "d2fef4bd",
   "metadata": {},
   "source": [
    "# Загрузка данных"
   ]
  },
  {
   "cell_type": "code",
   "execution_count": 2,
   "id": "b6472b60",
   "metadata": {},
   "outputs": [
    {
     "name": "stdout",
     "output_type": "stream",
     "text": [
      "<class 'pandas.core.frame.DataFrame'>\n",
      "RangeIndex: 5758 entries, 0 to 5757\n",
      "Data columns (total 2 columns):\n",
      " #   Column   Non-Null Count  Dtype \n",
      "---  ------   --------------  ----- \n",
      " 0   title    5758 non-null   object\n",
      " 1   is_fake  5758 non-null   int64 \n",
      "dtypes: int64(1), object(1)\n",
      "memory usage: 90.1+ KB\n"
     ]
    },
    {
     "data": {
      "text/plain": [
       "<bound method NDFrame.head of                                                   title  is_fake\n",
       "0     Москвичу Владимиру Клутину пришёл счёт за вмеш...        1\n",
       "1     Агент Кокорина назвал езду по встречке житейск...        0\n",
       "2     Госдума рассмотрит возможность введения секрет...        1\n",
       "3     ФАС заблокировала поставку скоростных трамваев...        0\n",
       "4     Против Навального завели дело о недоносительст...        1\n",
       "...                                                 ...      ...\n",
       "5753  Эдди Чемберс получил сотрясение мозга в бою с ...        0\n",
       "5754  Правительство застроит Россию нефтепродуктопро...        0\n",
       "5755  «Мне стыдно перед дедом»: новый канцлер ФРГ об...        1\n",
       "5756   Туркмения в декабре начнет поставки газа в Китай        0\n",
       "5757  Бывший тренер Локомотива возглавил нальчикский...        0\n",
       "\n",
       "[5758 rows x 2 columns]>"
      ]
     },
     "execution_count": 2,
     "metadata": {},
     "output_type": "execute_result"
    }
   ],
   "source": [
    "df = pd.read_csv(\"train.tsv\", sep = '\\t')\n",
    "df.info()\n",
    "df.head"
   ]
  },
  {
   "cell_type": "markdown",
   "id": "736ff6d1",
   "metadata": {},
   "source": [
    "# Анализ данных"
   ]
  },
  {
   "cell_type": "code",
   "execution_count": 3,
   "id": "adc008e9",
   "metadata": {},
   "outputs": [
    {
     "data": {
      "text/plain": [
       "title      0\n",
       "is_fake    0\n",
       "dtype: int64"
      ]
     },
     "execution_count": 3,
     "metadata": {},
     "output_type": "execute_result"
    }
   ],
   "source": [
    "#прверим, есть ли значение null\n",
    "df.isnull().sum()"
   ]
  },
  {
   "cell_type": "markdown",
   "id": "17c5e77e",
   "metadata": {},
   "source": [
    "Значения типа null отсутствуют, поэтому мы можем использовать всю тренировочную выборку"
   ]
  },
  {
   "cell_type": "markdown",
   "id": "5b0e5c8b",
   "metadata": {},
   "source": [
    "Проверим, сбалансирована ли наша выборка?"
   ]
  },
  {
   "cell_type": "code",
   "execution_count": 4,
   "id": "39a46d9a",
   "metadata": {},
   "outputs": [
    {
     "data": {
      "text/plain": [
       "<AxesSubplot:ylabel='Fake or Real'>"
      ]
     },
     "execution_count": 4,
     "metadata": {},
     "output_type": "execute_result"
    },
    {
     "data": {
      "image/png": "[encoded data removed]",
      "text/plain": [
       "<Figure size 432x288 with 1 Axes>"
      ]
     },
     "metadata": {},
     "output_type": "display_data"
    }
   ],
   "source": [
    "df.groupby('is_fake').size().plot(kind='pie', autopct='%.2f', legend=True, label=\"Fake or Real\")"
   ]
  },
  {
   "cell_type": "markdown",
   "id": "f6160d5a",
   "metadata": {},
   "source": [
    "Наша выборка сбалансирована идеально."
   ]
  },
  {
   "cell_type": "markdown",
   "id": "cf09025b",
   "metadata": {},
   "source": [
    "Проверим, есть ли дупликаты в выборке:"
   ]
  },
  {
   "cell_type": "code",
   "execution_count": 5,
   "id": "712ab151",
   "metadata": {},
   "outputs": [
    {
     "name": "stdout",
     "output_type": "stream",
     "text": [
      "1\n"
     ]
    }
   ],
   "source": [
    "print(df.duplicated().sum())"
   ]
  },
  {
   "cell_type": "markdown",
   "id": "11d34a43",
   "metadata": {},
   "source": [
    "Есть одно значение, которое должно быть удалено"
   ]
  },
  {
   "cell_type": "code",
   "execution_count": 6,
   "id": "d3eaeaff",
   "metadata": {},
   "outputs": [],
   "source": [
    "df.drop_duplicates(inplace = True)"
   ]
  },
  {
   "cell_type": "markdown",
   "id": "121e6384",
   "metadata": {},
   "source": [
    "Обработаем данные, для этого приведем все символы к нижнему регистру и удалим из текста столбца title все знаки пунктуации, различные небуквенные символы и цифры. Соединим оба этих действия в функции."
   ]
  },
  {
   "cell_type": "code",
   "execution_count": 7,
   "id": "e9243a96",
   "metadata": {},
   "outputs": [],
   "source": [
    "def drop(text):\n",
    "    text = text.lower()#приведение всех символов к нижнему регстру\n",
    "    text = re.sub(r'[^\\w\\s]',' ',text,flags=re.UNICODE)#удаление небуквенных символов\n",
    "    return text"
   ]
  },
  {
   "cell_type": "code",
   "execution_count": 8,
   "id": "dcc303c8",
   "metadata": {},
   "outputs": [
    {
     "data": {
      "text/plain": [
       "<bound method NDFrame.head of                                                   title  is_fake\n",
       "0     москвичу владимиру клутину пришёл счёт за вмеш...        1\n",
       "1     агент кокорина назвал езду по встречке житейск...        0\n",
       "2     госдума рассмотрит возможность введения секрет...        1\n",
       "3     фас заблокировала поставку скоростных трамваев...        0\n",
       "4     против навального завели дело о недоносительст...        1\n",
       "...                                                 ...      ...\n",
       "5753  эдди чемберс получил сотрясение мозга в бою с ...        0\n",
       "5754  правительство застроит россию нефтепродуктопро...        0\n",
       "5755   мне стыдно перед дедом   новый канцлер фрг об...        1\n",
       "5756   туркмения в декабре начнет поставки газа в китай        0\n",
       "5757  бывший тренер локомотива возглавил нальчикский...        0\n",
       "\n",
       "[5757 rows x 2 columns]>"
      ]
     },
     "execution_count": 8,
     "metadata": {},
     "output_type": "execute_result"
    }
   ],
   "source": [
    "#проверим\n",
    "df[\"title\"] = df[\"title\"].apply(drop)\n",
    "df.head"
   ]
  },
  {
   "cell_type": "markdown",
   "id": "4c71d4ec",
   "metadata": {},
   "source": [
    "Разделим выборку на X и y, где X - title, y - is_fake. Далее раздлеим их тренировочную и тестовую выборки."
   ]
  },
  {
   "cell_type": "code",
   "execution_count": 9,
   "id": "e7a32b3f",
   "metadata": {},
   "outputs": [],
   "source": [
    "#параметр X - новость\n",
    "#параметр y - оценка новости (fake - 1; real - 0)\n",
    "X = df.title\n",
    "y = df.is_fake\n",
    "\n",
    "X_train, X_valid, y_train, y_valid = train_test_split(X, y, test_size=0.2)"
   ]
  },
  {
   "cell_type": "markdown",
   "id": "26836127",
   "metadata": {},
   "source": [
    "Векторизуем данные и удалим стоп-слова. Наш текст на русском, поэтому для русских стоп-слов используем библиотеку nltk. "
   ]
  },
  {
   "cell_type": "code",
   "execution_count": 10,
   "id": "57756da9",
   "metadata": {},
   "outputs": [
    {
     "name": "stdout",
     "output_type": "stream",
     "text": [
      "['и', 'в', 'во', 'не', 'что', 'он', 'на', 'я', 'с', 'со', 'как', 'а', 'то', 'все', 'она', 'так', 'его', 'но', 'да', 'ты', 'к', 'у', 'же', 'вы', 'за', 'бы', 'по', 'только', 'ее', 'мне', 'было', 'вот', 'от', 'меня', 'еще', 'нет', 'о', 'из', 'ему', 'теперь', 'когда', 'даже', 'ну', 'вдруг', 'ли', 'если', 'уже', 'или', 'ни', 'быть', 'был', 'него', 'до', 'вас', 'нибудь', 'опять', 'уж', 'вам', 'ведь', 'там', 'потом', 'себя', 'ничего', 'ей', 'может', 'они', 'тут', 'где', 'есть', 'надо', 'ней', 'для', 'мы', 'тебя', 'их', 'чем', 'была', 'сам', 'чтоб', 'без', 'будто', 'чего', 'раз', 'тоже', 'себе', 'под', 'будет', 'ж', 'тогда', 'кто', 'этот', 'того', 'потому', 'этого', 'какой', 'совсем', 'ним', 'здесь', 'этом', 'один', 'почти', 'мой', 'тем', 'чтобы', 'нее', 'сейчас', 'были', 'куда', 'зачем', 'всех', 'никогда', 'можно', 'при', 'наконец', 'два', 'об', 'другой', 'хоть', 'после', 'над', 'больше', 'тот', 'через', 'эти', 'нас', 'про', 'всего', 'них', 'какая', 'много', 'разве', 'три', 'эту', 'моя', 'впрочем', 'хорошо', 'свою', 'этой', 'перед', 'иногда', 'лучше', 'чуть', 'том', 'нельзя', 'такой', 'им', 'более', 'всегда', 'конечно', 'всю', 'между']\n"
     ]
    },
    {
     "name": "stderr",
     "output_type": "stream",
     "text": [
      "[nltk_data] Downloading package stopwords to\n",
      "[nltk_data]     C:\\Users\\Пользователь\\AppData\\Roaming\\nltk_data...\n",
      "[nltk_data]   Package stopwords is already up-to-date!\n"
     ]
    }
   ],
   "source": [
    "#загрузка стоп-слов\n",
    "nltk.download('stopwords')\n",
    "stop_words = stopwords.words(\"russian\")\n",
    "print(stop_words)"
   ]
  },
  {
   "cell_type": "markdown",
   "id": "5832db2e",
   "metadata": {},
   "source": [
    "# Моделирование"
   ]
  },
  {
   "cell_type": "markdown",
   "id": "fc088701",
   "metadata": {},
   "source": [
    "Для модклирования будем использовать 3 модели, для предсказания в тестовой выборке будем использовать модель с наибольшим значением f1 метрики."
   ]
  },
  {
   "cell_type": "markdown",
   "id": "f4148c85",
   "metadata": {},
   "source": [
    "## Multionominal Naive Bayes"
   ]
  },
  {
   "cell_type": "code",
   "execution_count": 11,
   "id": "3212922e",
   "metadata": {},
   "outputs": [],
   "source": [
    "#создаем модель, используем Pipeline, в котором векторизуем данные и удаляем стоп-слова\n",
    "model_MNB = Pipeline([\n",
    "    ('tf-idf',TfidfVectorizer(stop_words=stop_words)),\n",
    "    ('clf',MultinomialNB())\n",
    "])"
   ]
  },
  {
   "cell_type": "code",
   "execution_count": 12,
   "id": "668bfc2b",
   "metadata": {},
   "outputs": [
    {
     "data": {
      "text/plain": [
       "Pipeline(steps=[('tf-idf',\n",
       "                 TfidfVectorizer(stop_words=['и', 'в', 'во', 'не', 'что', 'он',\n",
       "                                             'на', 'я', 'с', 'со', 'как', 'а',\n",
       "                                             'то', 'все', 'она', 'так', 'его',\n",
       "                                             'но', 'да', 'ты', 'к', 'у', 'же',\n",
       "                                             'вы', 'за', 'бы', 'по', 'только',\n",
       "                                             'ее', 'мне', ...])),\n",
       "                ('clf', MultinomialNB())])"
      ]
     },
     "execution_count": 12,
     "metadata": {},
     "output_type": "execute_result"
    }
   ],
   "source": [
    "#обучение модели\n",
    "model_MNB.fit(X_train, y_train) "
   ]
  },
  {
   "cell_type": "code",
   "execution_count": 13,
   "id": "b44a4e36",
   "metadata": {},
   "outputs": [
    {
     "name": "stdout",
     "output_type": "stream",
     "text": [
      "f1 score for Multinominal naive bayes:  0.8309503784693019\n"
     ]
    }
   ],
   "source": [
    "#получим предсказания модели и оценим ее с помощью метрики f1_score\n",
    "pred_MNB = model_MNB.predict(X_valid)\n",
    "score = f1_score(y_valid, pred_MNB)\n",
    "print(\"f1 score for Multinominal naive bayes: \", score)"
   ]
  },
  {
   "cell_type": "markdown",
   "id": "ae9b01f7",
   "metadata": {},
   "source": [
    "## Decision Tree Classifier"
   ]
  },
  {
   "cell_type": "code",
   "execution_count": 14,
   "id": "466cbe68",
   "metadata": {},
   "outputs": [],
   "source": [
    "#создаем модель, используем Pipeline, в котором векторизуем данные и удаляем стоп-слова\n",
    "model_DTC = Pipeline([\n",
    "    ('tf-idf', TfidfVectorizer(stop_words=stop_words)),\n",
    "    ('clf', DecisionTreeClassifier())\n",
    "])"
   ]
  },
  {
   "cell_type": "code",
   "execution_count": 15,
   "id": "75529741",
   "metadata": {},
   "outputs": [
    {
     "data": {
      "text/plain": [
       "Pipeline(steps=[('tf-idf',\n",
       "                 TfidfVectorizer(stop_words=['и', 'в', 'во', 'не', 'что', 'он',\n",
       "                                             'на', 'я', 'с', 'со', 'как', 'а',\n",
       "                                             'то', 'все', 'она', 'так', 'его',\n",
       "                                             'но', 'да', 'ты', 'к', 'у', 'же',\n",
       "                                             'вы', 'за', 'бы', 'по', 'только',\n",
       "                                             'ее', 'мне', ...])),\n",
       "                ('clf', DecisionTreeClassifier())])"
      ]
     },
     "execution_count": 15,
     "metadata": {},
     "output_type": "execute_result"
    }
   ],
   "source": [
    "#обучение модели\n",
    "model_DTC.fit(X_train, y_train)"
   ]
  },
  {
   "cell_type": "code",
   "execution_count": 16,
   "id": "ffedeaa3",
   "metadata": {},
   "outputs": [
    {
     "name": "stdout",
     "output_type": "stream",
     "text": [
      "f1 score for Decision Tree Classifier:  0.6653102746693794\n"
     ]
    }
   ],
   "source": [
    "#получим предсказания модели и оценим ее с помощью метрики f1_score\n",
    "pred_DTC = model_DTC.predict(X_valid)\n",
    "score = f1_score(y_valid, pred_DTC)\n",
    "print(\"f1 score for Decision Tree Classifier: \", score)"
   ]
  },
  {
   "cell_type": "markdown",
   "id": "d8e6fa5a",
   "metadata": {},
   "source": [
    "## Random Forest Classifier"
   ]
  },
  {
   "cell_type": "code",
   "execution_count": 17,
   "id": "89a594bf",
   "metadata": {},
   "outputs": [],
   "source": [
    "#создаем модель, используем Pipeline, в котором векторизуем данные и удаляем стоп-слова\n",
    "model_RFC = Pipeline([\n",
    "    ('tf-idf', TfidfVectorizer(stop_words=stop_words)),\n",
    "    ('clf', RandomForestClassifier(random_state = 0))\n",
    "])"
   ]
  },
  {
   "cell_type": "code",
   "execution_count": 18,
   "id": "283654b9",
   "metadata": {},
   "outputs": [
    {
     "data": {
      "text/plain": [
       "Pipeline(steps=[('tf-idf',\n",
       "                 TfidfVectorizer(stop_words=['и', 'в', 'во', 'не', 'что', 'он',\n",
       "                                             'на', 'я', 'с', 'со', 'как', 'а',\n",
       "                                             'то', 'все', 'она', 'так', 'его',\n",
       "                                             'но', 'да', 'ты', 'к', 'у', 'же',\n",
       "                                             'вы', 'за', 'бы', 'по', 'только',\n",
       "                                             'ее', 'мне', ...])),\n",
       "                ('clf', RandomForestClassifier(random_state=0))])"
      ]
     },
     "execution_count": 18,
     "metadata": {},
     "output_type": "execute_result"
    }
   ],
   "source": [
    "#обучение модели\n",
    "model_RFC.fit(X_train, y_train)"
   ]
  },
  {
   "cell_type": "code",
   "execution_count": 19,
   "id": "0ab236a7",
   "metadata": {},
   "outputs": [
    {
     "name": "stdout",
     "output_type": "stream",
     "text": [
      "f1 score for Random Forest Classifier:  0.6587215601300108\n"
     ]
    }
   ],
   "source": [
    "#получим предсказания модели и оценим ее с помощью метрики f1_score\n",
    "pred_RFC = model_RFC.predict(X_valid)\n",
    "score = f1_score(y_valid, pred_RFC)\n",
    "print(\"f1 score for Random Forest Classifier: \", score)"
   ]
  },
  {
   "cell_type": "markdown",
   "id": "83548822",
   "metadata": {},
   "source": [
    "Как мы видим, наибольшая оценка у первой модели Multinominal Naive Bayes. Прэтому для предсказания в тестовых данных будем использовать ее."
   ]
  },
  {
   "cell_type": "markdown",
   "id": "5fa267ed",
   "metadata": {},
   "source": [
    "# Тестовая задача"
   ]
  },
  {
   "cell_type": "markdown",
   "id": "5c75b96d",
   "metadata": {},
   "source": [
    "Загрузим тестовый набор данных и проведем над ним те же действия для изменения, что и над тренировочным."
   ]
  },
  {
   "cell_type": "code",
   "execution_count": 20,
   "id": "d77917b8",
   "metadata": {},
   "outputs": [
    {
     "name": "stdout",
     "output_type": "stream",
     "text": [
      "<class 'pandas.core.frame.DataFrame'>\n",
      "RangeIndex: 1000 entries, 0 to 999\n",
      "Data columns (total 2 columns):\n",
      " #   Column   Non-Null Count  Dtype \n",
      "---  ------   --------------  ----- \n",
      " 0   title    1000 non-null   object\n",
      " 1   is_fake  1000 non-null   int64 \n",
      "dtypes: int64(1), object(1)\n",
      "memory usage: 15.8+ KB\n"
     ]
    },
    {
     "data": {
      "text/plain": [
       "<bound method NDFrame.head of                                                  title  is_fake\n",
       "0    Роскомнадзор представил реестр сочетаний цвето...        0\n",
       "1    Ночью под Минском на президентской горе Белара...        0\n",
       "2    Бывший спичрайтер Юрия Лозы рассказал о трудно...        0\n",
       "3    Сельская церковь, собравшая рекордно низкое ко...        0\n",
       "4    Акции Google рухнули после объявления о переза...        0\n",
       "..                                                 ...      ...\n",
       "995  Прокуратура заподозрила Явлинского в авторитар...        0\n",
       "996  В День Победы стратегические ракетоносцы Ту-16...        0\n",
       "997  СК возбудил дело против авиакомпании «Победа» ...        0\n",
       "998  Криптомонетный двор Туркменистана выпустил юби...        0\n",
       "999  Deutsche Bahn заплатит рекордный штраф за чтен...        0\n",
       "\n",
       "[1000 rows x 2 columns]>"
      ]
     },
     "execution_count": 20,
     "metadata": {},
     "output_type": "execute_result"
    }
   ],
   "source": [
    "df_test = pd.read_csv(\"test.tsv\", sep = '\\t')\n",
    "df_test.info()\n",
    "df_test.head"
   ]
  },
  {
   "cell_type": "code",
   "execution_count": 21,
   "id": "1b7da92e",
   "metadata": {},
   "outputs": [
    {
     "data": {
      "text/plain": [
       "title      0\n",
       "is_fake    0\n",
       "dtype: int64"
      ]
     },
     "execution_count": 21,
     "metadata": {},
     "output_type": "execute_result"
    }
   ],
   "source": [
    "#прверим, есть ли значение null\n",
    "df_test.isnull().sum()"
   ]
  },
  {
   "cell_type": "markdown",
   "id": "150a1b1e",
   "metadata": {},
   "source": [
    "Сформируем выборку значений X. Используем метод copy, так как если не испольщовать его, то тестовая выборка значений X будет ссылаться на тестовы data frame."
   ]
  },
  {
   "cell_type": "code",
   "execution_count": 22,
   "id": "c5e6306c",
   "metadata": {},
   "outputs": [],
   "source": [
    "X_test = df_test.title.copy()#значения X - сами новости"
   ]
  },
  {
   "cell_type": "markdown",
   "id": "5be68e93",
   "metadata": {},
   "source": [
    "Также, как и в тренировочной выборке, уменьшим регистр и удалим лишние символы."
   ]
  },
  {
   "cell_type": "code",
   "execution_count": 23,
   "id": "fc340867",
   "metadata": {},
   "outputs": [
    {
     "data": {
      "text/plain": [
       "0    роскомнадзор представил реестр сочетаний цвето...\n",
       "1    ночью под минском на президентской горе белара...\n",
       "2    бывший спичрайтер юрия лозы рассказал о трудно...\n",
       "3    сельская церковь  собравшая рекордно низкое ко...\n",
       "4    акции google рухнули после объявления о переза...\n",
       "Name: title, dtype: object"
      ]
     },
     "execution_count": 23,
     "metadata": {},
     "output_type": "execute_result"
    }
   ],
   "source": [
    "#применение вышеописанной функции\n",
    "X_test = X_test.apply(drop)\n",
    "#проверка\n",
    "X_test[:5]"
   ]
  },
  {
   "cell_type": "code",
   "execution_count": 24,
   "id": "521d5c10",
   "metadata": {},
   "outputs": [],
   "source": [
    "#получаем предсказание модели\n",
    "y_test = model_MNB.predict(X_test)"
   ]
  },
  {
   "cell_type": "code",
   "execution_count": 25,
   "id": "702b68e2",
   "metadata": {},
   "outputs": [],
   "source": [
    "#в столбец is_fake устанавливаем значения предсказаний модели\n",
    "df_test['is_fake'] = y_test"
   ]
  },
  {
   "cell_type": "code",
   "execution_count": 26,
   "id": "88dcdec6",
   "metadata": {},
   "outputs": [
    {
     "data": {
      "text/plain": [
       "<bound method NDFrame.head of                                                  title  is_fake\n",
       "0    Роскомнадзор представил реестр сочетаний цвето...        1\n",
       "1    Ночью под Минском на президентской горе Белара...        1\n",
       "2    Бывший спичрайтер Юрия Лозы рассказал о трудно...        1\n",
       "3    Сельская церковь, собравшая рекордно низкое ко...        0\n",
       "4    Акции Google рухнули после объявления о переза...        0\n",
       "..                                                 ...      ...\n",
       "995  Прокуратура заподозрила Явлинского в авторитар...        0\n",
       "996  В День Победы стратегические ракетоносцы Ту-16...        1\n",
       "997  СК возбудил дело против авиакомпании «Победа» ...        1\n",
       "998  Криптомонетный двор Туркменистана выпустил юби...        1\n",
       "999  Deutsche Bahn заплатит рекордный штраф за чтен...        0\n",
       "\n",
       "[1000 rows x 2 columns]>"
      ]
     },
     "execution_count": 26,
     "metadata": {},
     "output_type": "execute_result"
    }
   ],
   "source": [
    "#выведем data frame для проверки\n",
    "df_test.head"
   ]
  },
  {
   "cell_type": "code",
   "execution_count": 27,
   "id": "1a950506",
   "metadata": {},
   "outputs": [],
   "source": [
    "#загружаем файл в ту же директорию, что и данный ноутбук, в последующем создадим python скрипт для перемещения файла\n",
    "df_test.to_csv(\"predictions.tsv\", sep='\\t')"
   ]
  },
  {
   "cell_type": "code",
   "execution_count": null,
   "id": "c1d39643",
   "metadata": {},
   "outputs": [],
   "source": []
  }
 ],
 "metadata": {
  "kernelspec": {
   "display_name": "Python 3 (ipykernel)",
   "language": "python",
   "name": "python3"
  },
  "language_info": {
   "codemirror_mode": {
    "name": "ipython",
    "version": 3
   },
   "file_extension": ".py",
   "mimetype": "text/x-python",
   "name": "python",
   "nbconvert_exporter": "python",
   "pygments_lexer": "ipython3",
   "version": "3.8.0"
  }
 },
 "nbformat": 4,
 "nbformat_minor": 5
}
